{
  "nbformat": 4,
  "nbformat_minor": 0,
  "metadata": {
    "colab": {
      "provenance": [],
      "authorship_tag": "ABX9TyMnr3KlxTkRb9eANh7tBVFv",
      "include_colab_link": true
    },
    "kernelspec": {
      "name": "python3",
      "display_name": "Python 3"
    },
    "language_info": {
      "name": "python"
    }
  },
  "cells": [
    {
      "cell_type": "markdown",
      "metadata": {
        "id": "view-in-github",
        "colab_type": "text"
      },
      "source": [
        "<a href=\"https://colab.research.google.com/github/manvichowdary05/hello.repository/blob/main/Untitled25.ipynb\" target=\"_parent\"><img src=\"https://colab.research.google.com/assets/colab-badge.svg\" alt=\"Open In Colab\"/></a>"
      ]
    },
    {
      "cell_type": "code",
      "execution_count": 1,
      "metadata": {
        "id": "NKHQwOSmSb9W"
      },
      "outputs": [],
      "source": [
        "# Hardcoded variables\n",
        "name = \"John\"\n",
        "age = 25\n",
        "location = \"New York\"\n"
      ]
    },
    {
      "cell_type": "code",
      "source": [
        "# Keyboard Input\n",
        "favorite_color = input(\"Enter your favorite color: \")\n",
        "favorite_hobby = input(\"Enter your favorite hobby: \")\n"
      ],
      "metadata": {
        "colab": {
          "base_uri": "https://localhost:8080/"
        },
        "id": "LbVeIdwiSfmQ",
        "outputId": "db5a71e3-8af0-411d-b80a-e09e4fcb7edb"
      },
      "execution_count": 2,
      "outputs": [
        {
          "name": "stdout",
          "output_type": "stream",
          "text": [
            "Enter your favorite color: black\n",
            "Enter your favorite hobby: dance\n"
          ]
        }
      ]
    },
    {
      "cell_type": "code",
      "source": [
        "# Reading from a file (single input)\n",
        "# Write data to a file first (do this in Colab to simulate reading from a file)\n",
        "with open('input.txt', 'w') as file:\n",
        "    file.write(\"The Catcher in the Rye\")\n",
        "\n",
        "# Now, read the input from the file\n",
        "with open('input.txt', 'r') as file:\n",
        "    favorite_book = file.readline().strip()\n",
        "    print(f\"Favorite Book: {favorite_book}\")\n"
      ],
      "metadata": {
        "colab": {
          "base_uri": "https://localhost:8080/"
        },
        "id": "iSTe5zO-SjAv",
        "outputId": "e9a8e60b-84e8-4d94-c5f6-076f2e225698"
      },
      "execution_count": 3,
      "outputs": [
        {
          "output_type": "stream",
          "name": "stdout",
          "text": [
            "Favorite Book: The Catcher in the Rye\n"
          ]
        }
      ]
    },
    {
      "cell_type": "code",
      "source": [
        "# Reading from a file (multiple inputs)\n",
        "# Write multiple lines of data to a file first\n",
        "with open('favorites.txt', 'w') as file:\n",
        "    file.write(\"Pizza\\n\")\n",
        "    file.write(\"Burger\\n\")\n",
        "    file.write(\"Sushi\\n\")\n",
        "\n",
        "# Now, read multiple lines of input from the file\n",
        "with open('favorites.txt', 'r') as file:\n",
        "    favorite_foods = file.readlines()\n",
        "\n",
        "favorite_foods = [food.strip() for food in favorite_foods]\n",
        "print(f\"Favorite Foods: {favorite_foods}\")\n"
      ],
      "metadata": {
        "colab": {
          "base_uri": "https://localhost:8080/"
        },
        "id": "_C3somdjSq-T",
        "outputId": "01294668-427d-410d-a49e-c5f2884f99b3"
      },
      "execution_count": 4,
      "outputs": [
        {
          "output_type": "stream",
          "name": "stdout",
          "text": [
            "Favorite Foods: ['Pizza', 'Burger', 'Sushi']\n"
          ]
        }
      ]
    },
    {
      "cell_type": "code",
      "source": [
        "# Hardcoded variables\n",
        "name = \"John\"\n",
        "age = 25\n",
        "location = \"New York\"\n",
        "\n",
        "# Keyboard Input\n",
        "favorite_color = input(\"Enter your favorite color: \")\n",
        "favorite_hobby = input(\"Enter your favorite hobby: \")\n",
        "\n",
        "# Reading from a file (single input)\n",
        "with open('input.txt', 'w') as file:\n",
        "    file.write(\"The Catcher in the Rye\")\n",
        "\n",
        "with open('input.txt', 'r') as file:\n",
        "    favorite_book = file.readline().strip()\n",
        "    print(f\"Favorite Book: {favorite_book}\")\n",
        "\n",
        "# Reading from a file (multiple inputs)\n",
        "with open('favorites.txt', 'w') as file:\n",
        "    file.write(\"Pizza\\n\")\n",
        "    file.write(\"Burger\\n\")\n",
        "    file.write(\"Sushi\\n\")\n",
        "\n",
        "with open('favorites.txt', 'r') as file:\n",
        "    favorite_foods = file.readlines()\n",
        "\n",
        "favorite_foods = [food.strip() for food in favorite_foods]\n",
        "print(f\"Favorite Foods: {favorite_foods}\")\n",
        "\n",
        "# Saving all versions to GitHub\n",
        "!git config --global user.email \"youremail@example.com\"\n",
        "!git config --global user.name \"Your Name\"\n",
        "\n",
        "!git init\n",
        "!git add .\n",
        "!git commit -m \"Initial commit with the program\"\n",
        "!git remote add origin https://github.com/yourusername/yourrepository.git\n",
        "!git push -u origin master\n"
      ],
      "metadata": {
        "id": "94E9_lTDTEqM"
      },
      "execution_count": null,
      "outputs": []
    }
  ]
}