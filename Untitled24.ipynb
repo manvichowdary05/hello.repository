{
  "nbformat": 4,
  "nbformat_minor": 0,
  "metadata": {
    "colab": {
      "provenance": [],
      "authorship_tag": "ABX9TyOV7teXMNW6YSif2p7AACUN",
      "include_colab_link": true
    },
    "kernelspec": {
      "name": "python3",
      "display_name": "Python 3"
    },
    "language_info": {
      "name": "python"
    }
  },
  "cells": [
    {
      "cell_type": "markdown",
      "metadata": {
        "id": "view-in-github",
        "colab_type": "text"
      },
      "source": [
        "<a href=\"https://colab.research.google.com/github/manvichowdary05/hello.repository/blob/main/Untitled24.ipynb\" target=\"_parent\"><img src=\"https://colab.research.google.com/assets/colab-badge.svg\" alt=\"Open In Colab\"/></a>"
      ]
    },
    {
      "cell_type": "code",
      "execution_count": 1,
      "metadata": {
        "colab": {
          "base_uri": "https://localhost:8080/"
        },
        "id": "jibEmljiOji_",
        "outputId": "08c84f26-cbb7-4d61-e7f7-b5f0a84bda5e"
      },
      "outputs": [
        {
          "output_type": "stream",
          "name": "stdout",
          "text": [
            "Name: Alice, Age: 25\n"
          ]
        }
      ],
      "source": [
        "# Version 1: Hardcoded Variables\n",
        "def version_hardcoded():\n",
        "    # Hardcoded values\n",
        "    name = \"Alice\"\n",
        "    age = 25\n",
        "    print(f\"Name: {name}, Age: {age}\")\n",
        "\n",
        "# Run the function\n",
        "version_hardcoded()"
      ]
    },
    {
      "cell_type": "code",
      "source": [
        "# Version 2: Keyboard Input\n",
        "def version_keyboard():\n",
        "    # Take input from the user\n",
        "    name = input(\"Enter your name: \")\n",
        "    age = int(input(\"Enter your age: \"))\n",
        "    print(f\"Name: {name}, Age: {age}\")\n",
        "\n",
        "# Uncomment to run the function\n",
        "# version_keyboard()"
      ],
      "metadata": {
        "id": "wpK6SqbmOnxW"
      },
      "execution_count": 2,
      "outputs": []
    },
    {
      "cell_type": "code",
      "source": [
        "# Version 3: Read Single Input from a File\n",
        "def version_single_file():\n",
        "    # File should contain a single line with the format \"name,age\"\n",
        "    try:\n",
        "        with open(\"single_input.txt\", \"r\") as file:\n",
        "            line = file.readline().strip()\n",
        "            name, age = line.split(\",\")\n",
        "            print(f\"Name: {name}, Age: {age}\")\n",
        "    except FileNotFoundError:\n",
        "        print(\"File not found. Please ensure 'single_input.txt' exists.\")\n",
        "    except ValueError:\n",
        "        print(\"File content is not in the correct format. Expected 'name,age'.\")\n",
        "\n",
        "# Uncomment to run the function\n",
        "# version_single_file()"
      ],
      "metadata": {
        "id": "ZGJBlvDQOrnE"
      },
      "execution_count": 3,
      "outputs": []
    },
    {
      "cell_type": "code",
      "source": [
        "# prompt: 1 4 6 7 38 8785\n",
        "\n",
        "# Version 4: Read Multiple Inputs from a File\n",
        "def version_multiple_file():\n",
        "    try:\n",
        "        with open(\"multiple_inputs.txt\", \"r\") as file:\n",
        "            for line in file:\n",
        "                try:\n",
        "                    name, age = line.strip().split(\",\")\n",
        "                    print(f\"Name: {name}, Age: {age}\")\n",
        "                except ValueError:\n",
        "                    print(f\"Skipping invalid line: {line.strip()}\")\n",
        "    except FileNotFoundError:\n",
        "        print(\"File not found. Please ensure 'multiple_inputs.txt' exists.\")\n",
        "\n",
        "# Create a dummy file for testing\n",
        "with open(\"multiple_inputs.txt\", \"w\") as f:\n",
        "    f.write(\"Alice,25\\n\")\n",
        "    f.write(\"Bob,30\\n\")\n",
        "    f.write(\"Charlie,35\\n\")\n",
        "    f.write(\"David,40\\n\")\n",
        "    f.write(\"Eve\\n\") # Invalid line\n",
        "\n",
        "# Run the function\n",
        "version_multiple_file()"
      ],
      "metadata": {
        "id": "wF7ejlZfOrn0"
      },
      "execution_count": 4,
      "outputs": []
    },
    {
      "cell_type": "code",
      "source": [
        "# Save All Versions to Files\n",
        "def save_versions():\n",
        "    versions = [version_hardcoded, version_keyboard, version_single_file, version_multiple_file]\n",
        "    for idx, version in enumerate(versions, start=1):\n",
        "        with open(f\"version_{idx}.py\", \"w\") as f:\n",
        "            f.write(version.__code__.co_code.decode(\"latin1\"))\n",
        "\n",
        "# Uncomment to save versions\n",
        "# save_versions()\n",
        "\n",
        "# Debugging and Fixing Errors (Run Each Function Separately)"
      ],
      "metadata": {
        "id": "qCtTQ2IuO3lE"
      },
      "execution_count": 5,
      "outputs": []
    }
  ]
}